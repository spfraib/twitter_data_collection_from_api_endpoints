{
 "cells": [
  {
   "cell_type": "code",
   "execution_count": null,
   "id": "anonymous-salmon",
   "metadata": {},
   "outputs": [],
   "source": [
    "import os\n",
    "from datetime import datetime\n",
    "from pyspark.sql import SparkSession\n",
    "import pyspark.sql.functions as F"
   ]
  },
  {
   "cell_type": "code",
   "execution_count": null,
   "id": "specific-banner",
   "metadata": {},
   "outputs": [],
   "source": [
    "print('Date:',datetime.today().strftime('%d%m%Y'))\n",
    "spark = SparkSession.builder\\\n",
    ".config(\"spark.sql.files.ignoreCorruptFiles\",\"true\") \\\n",
    ".config(\"spark.hadoop.dfs.replication\",\"1\") \\\n",
    ".config(\"spark.serializer\",\"org.apache.spark.serializer.KryoSerializer\") \\\n",
    ".config(\"spark.yarn.appMasterEnv.LANG\",\"en_US.UTF-8\") \\\n",
    ".config(\"spark.executorEnv.LANG\",\"en_US.UTF-8\") \\\n",
    ".config(\"spark.driver.extraJavaOptions\",\"-Duser.timezone=UTC\") \\\n",
    ".config(\"spark.executor.extraJavaOptions\",\"-Duser.timezone=UTC\") \\\n",
    ".config(\"spark.sql.session.timeZone\",\"UTC\") \\\n",
    ".config(\"spark.sql.shuffle.partitions\",\"200\") \\\n",
    ".config(\"spark.default.parallelism\",\"200\") \\\n",
    ".getOrCreate()\n",
    "print(spark.sparkContext.getConf().getAll())\n",
    "path_to_data = \"/user/spf248/twitter_data_collection/data\"\n",
    "print(path_to_data)"
   ]
  },
  {
   "cell_type": "code",
   "execution_count": null,
   "id": "black-hampshire",
   "metadata": {},
   "outputs": [],
   "source": [
    "df1 = spark.read.parquet(os.path.join(path_to_data,\"lookup_users\",\"seeds\")).select(\"user_id\")\n",
    "df2 = spark.read.parquet(os.path.join(path_to_data,\"user_timeline\",\"snowball\")).select(\"user_id\")\n",
    "df3 = spark.read.parquet(os.path.join(path_to_data,\"lookup_users\",\"profiles\")).select(\"user_id\")\n",
    "# lookup_users from the seeds or the snowball\n",
    "tmp = df1.join(df2,on='user_id',how='outer')\n",
    "# remove users whose profiles have been pulled\n",
    "tmp = tmp.join(df3,on='user_id',how='left_anti')\n",
    "tmp = tmp.distinct()\n",
    "tmp.write.mode(\"overwrite\").parquet(os.path.join(path_to_data,\"lookup_users\",\"batch\"))"
   ]
  }
 ],
 "metadata": {
  "kernelspec": {
   "display_name": "Python 3",
   "language": "python",
   "name": "python3"
  },
  "language_info": {
   "codemirror_mode": {
    "name": "ipython",
    "version": 3
   },
   "file_extension": ".py",
   "mimetype": "text/x-python",
   "name": "python",
   "nbconvert_exporter": "python",
   "pygments_lexer": "ipython3",
   "version": "3.8.5"
  }
 },
 "nbformat": 4,
 "nbformat_minor": 5
}

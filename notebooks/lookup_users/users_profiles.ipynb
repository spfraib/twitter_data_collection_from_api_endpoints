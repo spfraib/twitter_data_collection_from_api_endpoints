{
 "cells": [
  {
   "cell_type": "code",
   "execution_count": null,
   "id": "dental-dryer",
   "metadata": {},
   "outputs": [],
   "source": [
    "import os\n",
    "from datetime import datetime\n",
    "from pyspark.sql import SparkSession\n",
    "import pyspark.sql.functions as F"
   ]
  },
  {
   "cell_type": "code",
   "execution_count": null,
   "id": "meaning-applicant",
   "metadata": {},
   "outputs": [],
   "source": [
    "print('Date:',datetime.today().strftime('%d%m%Y'))\n",
    "spark = SparkSession.builder\\\n",
    ".config(\"spark.sql.files.ignoreCorruptFiles\",\"true\") \\\n",
    ".config(\"spark.hadoop.dfs.replication\",\"1\") \\\n",
    ".config(\"spark.serializer\",\"org.apache.spark.serializer.KryoSerializer\") \\\n",
    ".config(\"spark.yarn.appMasterEnv.LANG\",\"en_US.UTF-8\") \\\n",
    ".config(\"spark.executorEnv.LANG\",\"en_US.UTF-8\") \\\n",
    ".config(\"spark.driver.extraJavaOptions\",\"-Duser.timezone=UTC\") \\\n",
    ".config(\"spark.executor.extraJavaOptions\",\"-Duser.timezone=UTC\") \\\n",
    ".config(\"spark.sql.session.timeZone\",\"UTC\") \\\n",
    ".config(\"spark.sql.broadcastTimeout\",-1) \\\n",
    ".getOrCreate()\n",
    "print(spark.sparkContext.getConf().getAll())\n",
    "path_to_data = \"/user/spf248/twitter_data_collection/data\"\n",
    "print(path_to_data)"
   ]
  },
  {
   "cell_type": "code",
   "execution_count": null,
   "id": "adopted-scott",
   "metadata": {},
   "outputs": [],
   "source": [
    "path_to_schema = \"lookup_users_100059_20220404_17107939_56_25338542-5975-40ac-a0f6-296d95c5757c.json\"\n",
    "schema = spark.read.option(\"multiLine\",\"true\").option(\"encoding\",\"UTF-8\").json(os.path.join(path_to_data,\"lookup_users\",\"API\",\"042022\",path_to_schema)).schema\n",
    "df1 = spark.read.option(\"multiLine\",\"true\").option(\"encoding\",\"UTF-8\").json(os.path.join(path_to_data,\"lookup_users\",\"API\",\"*\"),schema=schema).selectExpr(\n",
    "\"status.id_str as tweet_id\",\n",
    "\"status.created_at as tweet_timestamp\",\n",
    "'created_at as user_timestamp', \n",
    "'default_profile_image as user_default_profile_image', \n",
    "'description as user_description', \n",
    "'favourites_count as user_favourites_count',\n",
    "'followers_count as user_followers_count', \n",
    "'friends_count as user_friends_count',\n",
    "'geo_enabled as user_geo_enabled',\n",
    "'id_str as user_id',\n",
    "'location as user_location', \n",
    "'name as user_name', \n",
    "'notifications as user_notifications', \n",
    "'profile_image_url_https as user_profile_image_url_https', \n",
    "'protected as user_protected',\n",
    "'screen_name as user_screen_name', \n",
    "'statuses_count as user_statuses_count', \n",
    "'url as user_url',\n",
    "'verified as user_verified',\n",
    ")\n",
    "df2 = spark.read.parquet(os.path.join(path_to_data,\"preprocessed\",\"locations\",\"locations_geocoded.parquet\")).select(\"user_location\",\"country_short\")\n",
    "tmp = df1.join(F.broadcast(df2),on=\"user_location\",how='left')\n",
    "tmp = tmp.drop_duplicates(subset=[\"user_id\",\"user_location\"])\n",
    "tmp = tmp.withColumn(\"tweet_timestamp\",F.unix_timestamp(\"tweet_timestamp\",\"EEE MMM dd HH:mm:ss ZZZZZ yyyy\"))\n",
    "tmp = tmp.withColumn(\"user_timestamp\",F.unix_timestamp(\"user_timestamp\",\"EEE MMM dd HH:mm:ss ZZZZZ yyyy\"))\n",
    "tmp.write.mode(\"overwrite\").parquet(os.path.join(path_to_data,\"lookup_users\",\"profiles\"))"
   ]
  }
 ],
 "metadata": {
  "kernelspec": {
   "display_name": "Python 3",
   "language": "python",
   "name": "python3"
  },
  "language_info": {
   "codemirror_mode": {
    "name": "ipython",
    "version": 3
   },
   "file_extension": ".py",
   "mimetype": "text/x-python",
   "name": "python",
   "nbconvert_exporter": "python",
   "pygments_lexer": "ipython3",
   "version": "3.8.5"
  }
 },
 "nbformat": 4,
 "nbformat_minor": 5
}

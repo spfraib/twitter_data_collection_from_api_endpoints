{
 "cells": [
  {
   "cell_type": "code",
   "execution_count": null,
   "id": "dental-dryer",
   "metadata": {},
   "outputs": [],
   "source": [
    "import os\n",
    "from datetime import datetime\n",
    "from pyspark.sql import SparkSession\n",
    "import pyspark.sql.functions as F\n",
    "from pyspark.sql.types import *"
   ]
  },
  {
   "cell_type": "code",
   "execution_count": null,
   "id": "meaning-applicant",
   "metadata": {},
   "outputs": [],
   "source": [
    "print('Date:',datetime.today().strftime('%Y-%m-%d'))\n",
    "spark = SparkSession.builder\\\n",
    ".config(\"spark.serializer\",\"org.apache.spark.serializer.KryoSerializer\") \\\n",
    ".config(\"spark.hadoop.dfs.replication\",\"1\") \\\n",
    ".config(\"spark.sql.files.ignoreCorruptFiles\",\"true\") \\\n",
    ".config(\"spark.yarn.appMasterEnv.LANG\",\"en_US.UTF-8\") \\\n",
    ".config(\"spark.executorEnv.LANG\",\"en_US.UTF-8\") \\\n",
    ".config(\"spark.driver.extraJavaOptions\",\"-Duser.timezone=UTC\") \\\n",
    ".config(\"spark.executor.extraJavaOptions\",\"-Duser.timezone=UTC\") \\\n",
    ".config(\"spark.sql.session.timeZone\",\"UTC\") \\\n",
    ".config(\"spark.sql.broadcastTimeout\",-1) \\\n",
    ".getOrCreate()\n",
    "print(spark.sparkContext.getConf().getAll())\n",
    "path_to_data = \"/user/spf248/twitter_data_collection/data\"\n",
    "print(path_to_data)"
   ]
  },
  {
   "cell_type": "code",
   "execution_count": null,
   "id": "major-sharp",
   "metadata": {},
   "outputs": [],
   "source": [
    "df1 = spark.read.parquet(os.path.join(path_to_data,\"user_timeline\",\"profiles\")).select(\"user_id\",\"country_short\",\"tweet_id\",\"tweet_timestamp\")\n",
    "df2 = spark.read.parquet(os.path.join(path_to_data,\"lookup_users\",\"profiles\")).select(\"user_id\",\"country_short\")\n",
    "df3 = spark.read.parquet(os.path.join(path_to_data,\"lookup_users\",\"seeds\")).select(\"user_id\")\n",
    "tmp1 = df1.where(df1['country_short'].isNotNull())\n",
    "tmp1 = tmp1.withColumn(\"tweet_timestamp\",F.to_timestamp(\"tweet_timestamp\"))\n",
    "tmp2 = df2.where(df2['country_short'].isNotNull()).drop_duplicates(subset=['user_id'])\n",
    "tmp2 = tmp2.join(tmp1.select('user_id'),on='user_id',how='left_anti')\n",
    "tmp2 = tmp2.join(tmp1,on=['user_id','country_short'],how='outer')\n",
    "tmp3 = df3.withColumn(\"is_seed\", F.lit(1).cast('int'))\n",
    "tmp4 = tmp2.join(tmp3,on=['user_id'],how='left')\n",
    "tmp4 = tmp4.fillna(0,subset=['is_seed'])\n",
    "tmp4.write.mode(\"overwrite\").parquet(os.path.join(path_to_data,\"user_timeline\",\"batch\"))"
   ]
  },
  {
   "cell_type": "code",
   "execution_count": null,
   "id": "dress-expression",
   "metadata": {},
   "outputs": [],
   "source": [
    "# df1 = spark.read.parquet(os.path.join(path_to_data,\"user_timeline\",\"profiles\")).select(\"user_id\",\"country_short\",\"tweet_id\",\"tweet_timestamp\")\n",
    "# df2 = spark.read.parquet(os.path.join(path_to_data,\"lookup_users\",\"profiles\")).select(\"user_id\",\"country_short\")\n",
    "# df3 = spark.read.parquet(os.path.join(path_to_data,\"user_timeline\",\"snowball\")).selectExpr(\"user_id\",\"country_short\",\"n_users\")\n",
    "# # Store timeline users' latest tweet\n",
    "# df1 = df1.withColumn(\"tweet_timestamp\",F.to_timestamp(\"tweet_timestamp\"))\n",
    "# tmp1 = df1.select(\"user_id\",\"tweet_id\",\"tweet_timestamp\")\n",
    "# # Store their geocode\n",
    "# tmp2 = df1.select(\"user_id\",\"country_short\")\n",
    "# # Combine all unique geocodes\n",
    "# tmp2 = tmp2.unionByName(df2)\n",
    "# tmp2 = tmp2.drop_duplicates(subset=[\"user_id\",\"country_short\"])\n",
    "# tmp2 = tmp2.withColumn(\"n_users\", F.lit(None).cast(LongType()))\n",
    "# # Combine snowballed geocodes removing users geocodes\n",
    "# tmp3 = df3.join(tmp2.select(\"user_id\",\"country_short\"),on=[\"user_id\",\"country_short\"],how=\"left_anti\")\n",
    "# # A user can be included for being geocoded in a country or mentioned by users in another country\n",
    "# tmp2 = tmp2.unionByName(tmp3)\n",
    "# # Drop existing timelines if no geocode is present (user could be pulled again later on if they reappear with a new geocode)\n",
    "# tmp2 = tmp2.where(tmp2[\"country_short\"].isNotNull())\n",
    "# # Merge back with tweet_ids (dropping users with timeline but no geocode)\n",
    "# tmp2 = tmp2.join(tmp1,on=\"user_id\",how=\"left\")\n",
    "# tmp2.write.mode(\"overwrite\").parquet(os.path.join(path_to_data,\"user_timeline\",\"batch\"))"
   ]
  }
 ],
 "metadata": {
  "kernelspec": {
   "display_name": "Python 3 (ipykernel)",
   "language": "python",
   "name": "python3"
  },
  "language_info": {
   "codemirror_mode": {
    "name": "ipython",
    "version": 3
   },
   "file_extension": ".py",
   "mimetype": "text/x-python",
   "name": "python",
   "nbconvert_exporter": "python",
   "pygments_lexer": "ipython3",
   "version": "3.8.12"
  }
 },
 "nbformat": 4,
 "nbformat_minor": 5
}

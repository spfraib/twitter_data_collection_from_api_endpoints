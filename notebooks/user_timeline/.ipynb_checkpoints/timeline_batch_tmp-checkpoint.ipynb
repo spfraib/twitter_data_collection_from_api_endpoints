{
 "cells": [
  {
   "cell_type": "code",
   "execution_count": 1,
   "id": "27d2a632",
   "metadata": {},
   "outputs": [],
   "source": [
    "from timeit import default_timer as timer\n",
    "import os\n",
    "import numpy as np\n",
    "from datetime import datetime\n",
    "from glob import glob\n",
    "import random\n",
    "from pyspark.sql import SparkSession\n",
    "import pyspark.sql.functions as F"
   ]
  },
  {
   "cell_type": "code",
   "execution_count": 2,
   "id": "ae49c5e0",
   "metadata": {},
   "outputs": [
    {
     "name": "stdout",
     "output_type": "stream",
     "text": [
      "Date: 25/05/2023 13:37\n"
     ]
    },
    {
     "name": "stderr",
     "output_type": "stream",
     "text": [
      "WARNING: An illegal reflective access operation has occurred\n",
      "WARNING: Illegal reflective access by org.apache.spark.unsafe.Platform (file:/ext3/spark-3.1.2-bin-hadoop3.2/jars/spark-unsafe_2.12-3.1.2.jar) to constructor java.nio.DirectByteBuffer(long,int)\n",
      "WARNING: Please consider reporting this to the maintainers of org.apache.spark.unsafe.Platform\n",
      "WARNING: Use --illegal-access=warn to enable warnings of further illegal reflective access operations\n",
      "WARNING: All illegal access operations will be denied in a future release\n",
      "23/05/25 17:37:39 WARN NativeCodeLoader: Unable to load native-hadoop library for your platform... using builtin-java classes where applicable\n",
      "Using Spark's default log4j profile: org/apache/spark/log4j-defaults.properties\n",
      "Setting default log level to \"WARN\".\n",
      "To adjust logging level use sc.setLogLevel(newLevel). For SparkR, use setLogLevel(newLevel).\n",
      "23/05/25 17:37:40 WARN Utils: Service 'SparkUI' could not bind on port 4040. Attempting port 4041.\n"
     ]
    },
    {
     "name": "stdout",
     "output_type": "stream",
     "text": [
      "[('spark.sql.broadcastTimeout', '-1'), ('spark.sql.legacy.timeParserPolicy', 'LEGACY'), ('spark.executor.extraJavaOptions', '-Duser.timezone=UTC'), ('spark.driver.cores', '32'), ('spark.app.id', 'local-1685036260267'), ('spark.serializer', 'org.apache.spark.serializer.KryoSerializer'), ('spark.serializer.objectStreamReset', '100'), ('spark.executor.cores', '32'), ('spark.master', 'local[*]'), ('spark.submit.deployMode', 'client'), ('spark.sql.autoBroadcastJoinThreshold', '-1'), ('spark.driver.port', '41311'), ('spark.ui.reverseProxy', 'true'), ('spark.driver.host', 'cs323.hpc.nyu.edu'), ('spark.ui.proxyBase', '/rnode/cs323.hpc.nyu.edu/8080'), ('spark.executor.memory', '100g'), ('spark.ui.enabled', 'true'), ('spark.executor.id', 'driver'), ('spark.yarn.appMasterEnv.LANG', 'en_US.UTF-8'), ('spark.app.name', 'pyspark-shell'), ('spark.executorEnv.JAVA_HOME', '/usr/lib/jvm/java-11-openjdk-amd64'), ('spark.driver.extraJavaOptions', '-Duser.timezone=UTC'), ('spark.sql.warehouse.dir', 'file:/scratch/spf248/twitter_data_collection/notebooks/user_timeline/spark-warehouse'), ('spark.rdd.compress', 'True'), ('spark.app.startTime', '1685036259530'), ('spark.submit.pyFiles', ''), ('spark.sql.files.ignoreCorruptFiles', 'true'), ('spark.sql.session.timeZone', 'UTC'), ('spark.driver.memory', '100g'), ('spark.executorEnv.LANG', 'en_US.UTF-8'), ('spark.ui.showConsoleProgress', 'true')]\n",
      "/scratch/spf248/twitter_data_collection/data\n"
     ]
    }
   ],
   "source": [
    "print('Date:',datetime.today().strftime('%d/%m/%Y %H:%M'))\n",
    "spark = SparkSession.builder.config(\"spark.sql.files.ignoreCorruptFiles\",\"true\") .config(\"spark.serializer\",\"org.apache.spark.serializer.KryoSerializer\") .config(\"spark.yarn.appMasterEnv.LANG\",\"en_US.UTF-8\") .config(\"spark.executorEnv.LANG\",\"en_US.UTF-8\") .config(\"spark.driver.extraJavaOptions\",\"-Duser.timezone=UTC\") .config(\"spark.executor.extraJavaOptions\",\"-Duser.timezone=UTC\") .config(\"spark.sql.session.timeZone\",\"UTC\") .config(\"spark.sql.legacy.timeParserPolicy\",\"LEGACY\") .config(\"spark.driver.memory\", \"100g\") .config(\"spark.executor.memory\", \"100g\") .config(\"spark.driver.cores\", \"32\") .config(\"spark.executor.cores\", \"32\") .config(\"spark.sql.broadcastTimeout\", \"-1\") .config(\"spark.sql.autoBroadcastJoinThreshold\", \"-1\") .getOrCreate()\n",
    "print(spark.sparkContext.getConf().getAll())\n",
    "path_to_data = os.path.join('/',os.getcwd().split('/')[1],'spf248','twitter_data_collection','data')\n",
    "print(path_to_data)"
   ]
  },
  {
   "cell_type": "code",
   "execution_count": 3,
   "id": "89989b25",
   "metadata": {},
   "outputs": [
    {
     "name": "stderr",
     "output_type": "stream",
     "text": [
      "\r",
      "[Stage 0:>                                                          (0 + 1) / 1]\r",
      "\r",
      "                                                                                \r"
     ]
    }
   ],
   "source": [
    "df1 = spark.read.parquet(os.path.join(path_to_data,\"user_timeline\",\"batch\"))"
   ]
  },
  {
   "cell_type": "code",
   "execution_count": 4,
   "id": "7caac768",
   "metadata": {},
   "outputs": [
    {
     "name": "stderr",
     "output_type": "stream",
     "text": [
      "23/05/25 17:38:10 WARN package: Truncated the string representation of a plan since it was too large. This behavior can be adjusted by setting 'spark.sql.debug.maxToStringFields'.\n",
      "                                                                                \r"
     ]
    }
   ],
   "source": [
    "l = sorted(glob(os.path.join(path_to_data,\"user_timeline\",\"API\",\"MX\",\"*2023\",\"update\",\"*.json.bz2\")))\n",
    "random.shuffle(l)\n",
    "schema = spark.read.option(\"compression\",\"bzip2\").option(\"multiLine\",\"true\").option(\"encoding\",\"UTF-8\").json(l[0]).schema\n",
    "df2 = spark.read.option(\"compression\",\"bzip2\").option(\"multiLine\",\"true\").option(\"encoding\",\"UTF-8\").option(\"badRecordsPath\", os.path.join(path_to_data,\"data_collection\",\"user_timeline\",\"badRecords\")).json(l,schema=schema)"
   ]
  },
  {
   "cell_type": "code",
   "execution_count": 5,
   "id": "70efc874",
   "metadata": {},
   "outputs": [
    {
     "name": "stderr",
     "output_type": "stream",
     "text": [
      "[Stage 5:======================================================>(198 + 2) / 200]\r"
     ]
    },
    {
     "name": "stdout",
     "output_type": "stream",
     "text": [
      "Computing Time: 3397 sec\n"
     ]
    },
    {
     "name": "stderr",
     "output_type": "stream",
     "text": [
      "\r",
      "                                                                                \r"
     ]
    }
   ],
   "source": [
    "start = timer()\n",
    "tmp = df1.join(df2.selectExpr('user.id_str as user_id'),on='user_id',how='left_anti')\n",
    "tmp.write.mode(\"overwrite\").parquet(os.path.join(path_to_data,\"user_timeline\",\"batch_tmp\"))\n",
    "print('Computing Time:', round(timer() - start), 'sec')"
   ]
  },
  {
   "cell_type": "code",
   "execution_count": 8,
   "id": "06a6c1e0",
   "metadata": {},
   "outputs": [],
   "source": [
    "tmp = spark.read.parquet(os.path.join(path_to_data,\"user_timeline\",\"batch_tmp\"))"
   ]
  },
  {
   "cell_type": "code",
   "execution_count": 9,
   "id": "559b69bc",
   "metadata": {},
   "outputs": [
    {
     "name": "stdout",
     "output_type": "stream",
     "text": [
      "+-------------------+-------------+-------------------+-------------------+-------+\n",
      "|            user_id|country_short|           tweet_id|    tweet_timestamp|is_seed|\n",
      "+-------------------+-------------+-------------------+-------------------+-------+\n",
      "|1000001503522934784|           PT|               null|               null|      1|\n",
      "|1000002384779776000|           TR|               null|               null|      1|\n",
      "|1000003469833572352|           CL|               null|               null|      0|\n",
      "|1000007918153097216|           EG|               null|               null|      1|\n",
      "|1000008648695930880|           US|1385743449891033089|2021-04-23 23:52:38|      0|\n",
      "|1000011054448041984|           DE|               null|               null|      0|\n",
      "|1000012660694573056|           US|1002389726488350725|2018-06-01 03:21:48|      1|\n",
      "|          100001956|           US| 110890984828702720|2011-09-06 01:44:05|      1|\n",
      "|1000025597081522177|           PT|               null|               null|      1|\n",
      "|1000028209595998208|           BR|1473297916362121219|2021-12-21 14:22:50|      0|\n",
      "|1000028519580155905|           US|1558487599274004480|2022-08-13 16:16:13|      0|\n",
      "|1000030621341769728|           US|               null|               null|      1|\n",
      "|1000031984872247296|           SA|               null|               null|      0|\n",
      "|          100003487|           US|               null|               null|      0|\n",
      "|         1000036914|           TR|               null|               null|      1|\n",
      "|          100003984|           US| 275366593490452480|2012-12-02 22:31:26|      1|\n",
      "|1000042449941815296|           CO|               null|               null|      0|\n",
      "|1000044004078178305|           ZA|               null|               null|      1|\n",
      "|1000044798160592896|           FR|1389855645516632065|2021-05-05 08:13:02|      1|\n",
      "|1000045973735903232|           PT|               null|               null|      1|\n",
      "+-------------------+-------------+-------------------+-------------------+-------+\n",
      "only showing top 20 rows\n",
      "\n"
     ]
    }
   ],
   "source": [
    "tmp.show()"
   ]
  },
  {
   "cell_type": "code",
   "execution_count": null,
   "id": "948ac72c",
   "metadata": {},
   "outputs": [],
   "source": []
  }
 ],
 "metadata": {
  "kernelspec": {
   "display_name": "Python 3 (ipykernel)",
   "language": "python",
   "name": "python3"
  },
  "language_info": {
   "codemirror_mode": {
    "name": "ipython",
    "version": 3
   },
   "file_extension": ".py",
   "mimetype": "text/x-python",
   "name": "python",
   "nbconvert_exporter": "python",
   "pygments_lexer": "ipython3",
   "version": "3.8.12"
  }
 },
 "nbformat": 4,
 "nbformat_minor": 5
}

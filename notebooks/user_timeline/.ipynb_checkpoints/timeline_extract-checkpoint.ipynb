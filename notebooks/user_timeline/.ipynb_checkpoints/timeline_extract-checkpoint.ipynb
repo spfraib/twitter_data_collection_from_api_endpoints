{
 "cells": [
  {
   "cell_type": "code",
   "execution_count": null,
   "id": "tamil-citizen",
   "metadata": {},
   "outputs": [],
   "source": [
    "import os\n",
    "from datetime import datetime\n",
    "from pyspark.sql import SparkSession\n",
    "import pyspark.sql.functions as F"
   ]
  },
  {
   "cell_type": "code",
   "execution_count": null,
   "id": "usual-thanks",
   "metadata": {},
   "outputs": [],
   "source": [
    "print('Date:',datetime.today().strftime('%d%m%Y'))\n",
    "spark = SparkSession.builder\\\n",
    ".config(\"spark.sql.files.ignoreCorruptFiles\",\"true\") \\\n",
    ".config(\"spark.hadoop.dfs.replication\",\"1\") \\\n",
    ".config(\"spark.serializer\",\"org.apache.spark.serializer.KryoSerializer\") \\\n",
    ".config(\"spark.yarn.appMasterEnv.LANG\",\"en_US.UTF-8\") \\\n",
    ".config(\"spark.executorEnv.LANG\",\"en_US.UTF-8\") \\\n",
    ".config(\"spark.driver.extraJavaOptions\",\"-Duser.timezone=UTC\") \\\n",
    ".config(\"spark.executor.extraJavaOptions\",\"-Duser.timezone=UTC\") \\\n",
    ".config(\"spark.sql.session.timeZone\",\"UTC\") \\\n",
    ".getOrCreate()\n",
    "print(spark.sparkContext.getConf().getAll())\n",
    "path_to_data = \"/user/spf248/twitter_data_collection/data\"\n",
    "print(path_to_data)"
   ]
  },
  {
   "cell_type": "code",
   "execution_count": null,
   "id": "laughing-bankruptcy",
   "metadata": {},
   "outputs": [],
   "source": [
    "# output data: 1M rows ~ 100mB \n",
    "def extract(df,numOfPartitions):\n",
    "    tmp1 = df.selectExpr(\n",
    "    'id_str as tweet_id',\n",
    "    'created_at as tweet_timestamp',\n",
    "    'lang as tweet_lang',\n",
    "    'full_text as tweet_text',\n",
    "    'retweeted_status.user.id_str as tweet_retweeted_user_id',\n",
    "    'in_reply_to_user_id_str as tweet_in_reply_to_user_id',\n",
    "    'entities.user_mentions.id_str as tweet_mentioned_user_id',\n",
    "    'entities.urls.expanded_url as tweet_urls',\n",
    "    'place as tweet_place',\n",
    "    'coordinates.coordinates as tweet_coordinates',\n",
    "    'user.created_at as user_timestamp', \n",
    "    'user.default_profile_image as user_default_profile_image', \n",
    "    'user.description as user_description', \n",
    "    'user.favourites_count as user_favourites_count',\n",
    "    'user.followers_count as user_followers_count', \n",
    "    'user.friends_count as user_friends_count',\n",
    "    'user.geo_enabled as user_geo_enabled',\n",
    "    'user.id_str as user_id',\n",
    "    'user.location as user_location', \n",
    "    'user.name as user_name', \n",
    "    'user.notifications as user_notifications', \n",
    "    'user.profile_image_url_https as user_profile_image_url_https', \n",
    "    'user.protected as user_protected',\n",
    "    'user.screen_name as user_screen_name', \n",
    "    'user.statuses_count as user_statuses_count', \n",
    "    'user.url as user_url',\n",
    "    'user.verified as user_verified',\n",
    "    )\n",
    "    tmp1 = tmp1.withColumn(\"tweet_timestamp\",F.unix_timestamp(\"tweet_timestamp\",\"EEE MMM dd HH:mm:ss ZZZZZ yyyy\"))\n",
    "    tmp1 = tmp1.withColumn(\"user_timestamp\",F.unix_timestamp(\"user_timestamp\",\"EEE MMM dd HH:mm:ss ZZZZZ yyyy\"))\n",
    "#     tmp1 = tmp1.withColumn(\"input_file_name\",F.input_file_name())\n",
    "    tmp1 = tmp1.drop_duplicates(subset=[\"tweet_id\"])\n",
    "    tmp1 = tmp1.repartition(numOfPartitions)\n",
    "    tmp1.write.mode(\"overwrite\").parquet(os.path.join(path_to_data,\"user_timeline\",\"extract\"))"
   ]
  },
  {
   "cell_type": "code",
   "execution_count": null,
   "id": "earlier-frontier",
   "metadata": {},
   "outputs": [],
   "source": [
    "path2schema = os.path.join(path_to_data,\"user_timeline\",\"API\",\"US\",\"032022\",\"full\",\"user_timeline_500_US_032022_full_15965084_41_dd36715b-ec01-44a8-ab5d-38d965a3c3ff.json.bz2\")\n",
    "schema = spark.read.option(\"compression\",\"bzip2\").option(\"multiLine\",\"true\").option(\"encoding\",\"UTF-8\").json(path2schema).schema\n",
    "path2files = os.path.join(path_to_data,\"user_timeline\",\"API\",\"*\",\"*\",\"*\",\"*.bz2\")\n",
    "# Used for testing\n",
    "# path2files = os.path.join(path_to_data,\"user_timeline\",\"API\",\"US\",\"032022\",\"full\",\"*.bz2\")\n",
    "df = spark.read.option(\"compression\",\"bzip2\").option(\"multiLine\",\"true\").option(\"encoding\",\"UTF-8\").option(\"badRecordsPath\", os.path.join(path_to_data,\"user_timeline\",\"badRecords\")).json(path2files,schema=schema)\n",
    "extract(df,10000)"
   ]
  }
 ],
 "metadata": {
  "kernelspec": {
   "display_name": "Python 3",
   "language": "python",
   "name": "python3"
  },
  "language_info": {
   "codemirror_mode": {
    "name": "ipython",
    "version": 3
   },
   "file_extension": ".py",
   "mimetype": "text/x-python",
   "name": "python",
   "nbconvert_exporter": "python",
   "pygments_lexer": "ipython3",
   "version": "3.8.5"
  }
 },
 "nbformat": 4,
 "nbformat_minor": 5
}

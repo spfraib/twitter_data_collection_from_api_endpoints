{
 "cells": [
  {
   "cell_type": "code",
   "execution_count": 1,
   "id": "involved-labor",
   "metadata": {},
   "outputs": [],
   "source": [
    "from timeit import default_timer as timer\n",
    "import time\n",
    "from datetime import date\n",
    "import os\n",
    "import sys\n",
    "import uuid\n",
    "from glob import glob\n",
    "import json\n",
    "import tweepy\n",
    "import numpy as np\n",
    "import pandas as pd"
   ]
  },
  {
   "cell_type": "code",
   "execution_count": 2,
   "id": "packed-ratio",
   "metadata": {},
   "outputs": [
    {
     "name": "stdout",
     "output_type": "stream",
     "text": [
      "countries_short: ['US']\n",
      "pull_type: update\n",
      "drop_seeds: False\n",
      "max_timestamp: 12/31/2022\n",
      "min_timestamp: 04/01/2022\n",
      "path_to_data: /scratch/spf248/twitter_data_collection/data\n",
      "path_to_output: /scratch/spf248/twitter_data_collection/data\n",
      "start_pull: 25122022\n",
      "id_type: user_id\n",
      "Max auth of 15 users per app\n",
      "Apps: ['spfraib_sentiments', 'WorldBankGroup6']\n",
      "Store after 880 requests\n",
      "Window of 900 sec to replenish rate limits\n",
      "Wait 10 sec to replenish rate limits\n"
     ]
    }
   ],
   "source": [
    "countries_short = ['US'] # ['AR', 'BR', 'CD', 'CO', 'FR', 'MX', 'NG', 'PK', 'US', 'VE']\n",
    "pull_type = 'update' # ['full','update']\n",
    "drop_seeds = False\n",
    "max_timestamp = '12/31/2022' # '9/1/2022'\n",
    "min_timestamp = '04/01/2022' # '1/1/2019'\n",
    "path_to_data = \"/scratch/spf248/twitter_data_collection/data\"\n",
    "path_to_output = \"/scratch/spf248/twitter_data_collection/data\"\n",
    "start_pull = date.today().strftime(\"%d%m%Y\")\n",
    "id_type = 'user_id'\n",
    "max_users_per_app = 15\n",
    "apps = ['spfraib_sentiments','WorldBankGroup6'] # ['spfraib_sentiments','WorldBankGroup6']\n",
    "max_requests = 880\n",
    "window_in_sec = 900\n",
    "wait_in_sec = 10\n",
    "\n",
    "print('countries_short:',countries_short)\n",
    "print('pull_type:',pull_type)\n",
    "print('drop_seeds:',drop_seeds)\n",
    "print('max_timestamp:',max_timestamp)\n",
    "print('min_timestamp:',min_timestamp)\n",
    "print('path_to_data:',path_to_data)\n",
    "print('path_to_output:',path_to_output)\n",
    "print('start_pull:',start_pull)\n",
    "print('id_type:',id_type)\n",
    "print('Max auth of',max_users_per_app,'users per app')\n",
    "print('Apps:',apps)\n",
    "print('Store after',max_requests,'requests')\n",
    "print('Window of',window_in_sec,'sec to replenish rate limits')\n",
    "print('Wait',wait_in_sec,'sec to replenish rate limits')"
   ]
  },
  {
   "cell_type": "code",
   "execution_count": 3,
   "id": "backed-mention",
   "metadata": {},
   "outputs": [
    {
     "name": "stdout",
     "output_type": "stream",
     "text": [
      "key files: 30\n"
     ]
    }
   ],
   "source": [
    "def select_key_files(path_to_data,max_users_per_app,apps):\n",
    "    key_files = []\n",
    "    key_usernames = []\n",
    "    app2username = {}\n",
    "    all_files = sorted(glob(os.path.join(path_to_data,'../keys','v1','*.json')))\n",
    "    for file in all_files:\n",
    "        username = file.split('/')[-1].split('-')[1].split('.json')[0]\n",
    "        app = file.split('/')[-1].split('-')[0]\n",
    "        app2username.setdefault(app, [])\n",
    "        if app in apps and username not in key_usernames and len(app2username[app])<max_users_per_app and 'bot' not in username:\n",
    "            app2username[app].append(username)\n",
    "            key_files.append(file)\n",
    "            key_usernames.append(username)\n",
    "    return key_files\n",
    "\n",
    "key_files = select_key_files(path_to_data,max_users_per_app,apps)\n",
    "print('key files:', len(key_files))"
   ]
  },
  {
   "cell_type": "code",
   "execution_count": 4,
   "id": "atmospheric-possibility",
   "metadata": {},
   "outputs": [
    {
     "name": "stdout",
     "output_type": "stream",
     "text": [
      "SLURM_JOB_ID : 28570912\n",
      "SLURM_ARRAY_TASK_ID : 10 (Default)\n",
      "SLURM_ARRAY_TASK_COUNT : 30 (Default)\n"
     ]
    }
   ],
   "source": [
    "def get_env_var(varname,default):\n",
    "    if os.environ.get(varname) != None:\n",
    "        var = int(os.environ.get(varname))\n",
    "        print(varname,':', var)\n",
    "    else:\n",
    "        var = default\n",
    "        print(varname,':', var,'(Default)')\n",
    "    return var\n",
    "\n",
    "# Choose Number of Nodes To Distribute Credentials: e.g. jobarray=0-4, cpu_per_task=20, credentials = 90 (<100)\n",
    "SLURM_JOB_ID            = get_env_var('SLURM_JOB_ID',0)\n",
    "SLURM_ARRAY_TASK_ID     = get_env_var('SLURM_ARRAY_TASK_ID',10)\n",
    "SLURM_ARRAY_TASK_COUNT  = get_env_var('SLURM_ARRAY_TASK_COUNT',len(key_files))"
   ]
  },
  {
   "cell_type": "code",
   "execution_count": 5,
   "id": "advance-fundamental",
   "metadata": {},
   "outputs": [
    {
     "name": "stdout",
     "output_type": "stream",
     "text": [
      "Load and select users:\n",
      "# users: 1288283\n",
      "keep updated timelines...\n",
      "# users: 1057865\n",
      "max_timestamp...\n",
      "# users: 1057865\n",
      "min_timestamp...\n",
      "# users: 267158\n",
      "drop duplicates...\n",
      "# users: 267158\n",
      "Computing Time: 5 sec\n"
     ]
    }
   ],
   "source": [
    "print('Load and select users:')\n",
    "start = timer()\n",
    "files = pd.Series(sorted(glob(os.path.join(path_to_data,'user_timeline','batch','*.parquet')))).sample(frac=1,random_state=0).to_list()\n",
    "files_node = list(np.array_split(files,SLURM_ARRAY_TASK_COUNT)[SLURM_ARRAY_TASK_ID])\n",
    "users_node = pd.read_parquet(files_node)\n",
    "\n",
    "# Keep users associated with selected countries (duplicates occur when users are associated with multiple countries)\n",
    "users = users_node[users_node['country_short'].isin(countries_short)].copy()\n",
    "print('# users:', len(users))\n",
    "\n",
    "if pull_type == 'full':\n",
    "    users = users[users['tweet_timestamp'].isnull()]\n",
    "    print('keep full timelines...')\n",
    "    print('# users:', len(users))\n",
    "elif pull_type == 'update':\n",
    "    users = users[-users['tweet_timestamp'].isnull()]\n",
    "    print('keep updated timelines...')\n",
    "    print('# users:', len(users))\n",
    "    if max_timestamp:\n",
    "        users = users[(users['tweet_timestamp']<max_timestamp)]\n",
    "        print('max_timestamp...')\n",
    "        print('# users:', len(users))\n",
    "    if min_timestamp:\n",
    "        users = users[(users['tweet_timestamp']>min_timestamp)]\n",
    "        print('min_timestamp...')\n",
    "        print('# users:', len(users))\n",
    "if drop_seeds:\n",
    "    users = users[users['is_seed']==0]\n",
    "    print('drop_seeds...')\n",
    "    print('# users:', len(users))\n",
    "users = users.drop_duplicates('user_id').sort_values(by='user_id').sample(frac=1,random_state=0).reset_index(drop=True)\n",
    "print('drop duplicates...')\n",
    "print('# users:', len(users))\n",
    "\n",
    "end = timer()\n",
    "print('Computing Time:', round(end - start), 'sec')"
   ]
  },
  {
   "cell_type": "code",
   "execution_count": 6,
   "id": "complex-portable",
   "metadata": {},
   "outputs": [
    {
     "data": {
      "text/html": [
       "<div>\n",
       "<style scoped>\n",
       "    .dataframe tbody tr th:only-of-type {\n",
       "        vertical-align: middle;\n",
       "    }\n",
       "\n",
       "    .dataframe tbody tr th {\n",
       "        vertical-align: top;\n",
       "    }\n",
       "\n",
       "    .dataframe thead th {\n",
       "        text-align: right;\n",
       "    }\n",
       "</style>\n",
       "<table border=\"1\" class=\"dataframe\">\n",
       "  <thead>\n",
       "    <tr style=\"text-align: right;\">\n",
       "      <th></th>\n",
       "      <th>user_id</th>\n",
       "      <th>country_short</th>\n",
       "      <th>tweet_id</th>\n",
       "      <th>tweet_timestamp</th>\n",
       "      <th>is_seed</th>\n",
       "    </tr>\n",
       "  </thead>\n",
       "  <tbody>\n",
       "    <tr>\n",
       "      <th>0</th>\n",
       "      <td>416515819</td>\n",
       "      <td>US</td>\n",
       "      <td>1559768494845005825</td>\n",
       "      <td>2022-08-17 05:06:02</td>\n",
       "      <td>1</td>\n",
       "    </tr>\n",
       "    <tr>\n",
       "      <th>1</th>\n",
       "      <td>3245351730</td>\n",
       "      <td>US</td>\n",
       "      <td>1559923083816960000</td>\n",
       "      <td>2022-08-17 15:20:19</td>\n",
       "      <td>0</td>\n",
       "    </tr>\n",
       "    <tr>\n",
       "      <th>2</th>\n",
       "      <td>1004233324812890112</td>\n",
       "      <td>US</td>\n",
       "      <td>1559412098220044289</td>\n",
       "      <td>2022-08-16 05:29:51</td>\n",
       "      <td>0</td>\n",
       "    </tr>\n",
       "    <tr>\n",
       "      <th>3</th>\n",
       "      <td>1705771326</td>\n",
       "      <td>US</td>\n",
       "      <td>1558468351030181888</td>\n",
       "      <td>2022-08-13 14:59:44</td>\n",
       "      <td>0</td>\n",
       "    </tr>\n",
       "    <tr>\n",
       "      <th>4</th>\n",
       "      <td>305926954</td>\n",
       "      <td>US</td>\n",
       "      <td>1558908619457843200</td>\n",
       "      <td>2022-08-14 20:09:12</td>\n",
       "      <td>1</td>\n",
       "    </tr>\n",
       "  </tbody>\n",
       "</table>\n",
       "</div>"
      ],
      "text/plain": [
       "               user_id country_short             tweet_id     tweet_timestamp  \\\n",
       "0            416515819            US  1559768494845005825 2022-08-17 05:06:02   \n",
       "1           3245351730            US  1559923083816960000 2022-08-17 15:20:19   \n",
       "2  1004233324812890112            US  1559412098220044289 2022-08-16 05:29:51   \n",
       "3           1705771326            US  1558468351030181888 2022-08-13 14:59:44   \n",
       "4            305926954            US  1558908619457843200 2022-08-14 20:09:12   \n",
       "\n",
       "   is_seed  \n",
       "0        1  \n",
       "1        0  \n",
       "2        0  \n",
       "3        0  \n",
       "4        1  "
      ]
     },
     "execution_count": 6,
     "metadata": {},
     "output_type": "execute_result"
    }
   ],
   "source": [
    "users.head()"
   ]
  },
  {
   "cell_type": "code",
   "execution_count": 7,
   "id": "decent-fifth",
   "metadata": {},
   "outputs": [
    {
     "name": "stdout",
     "output_type": "stream",
     "text": [
      "<class 'pandas.core.frame.DataFrame'>\n",
      "RangeIndex: 267158 entries, 0 to 267157\n",
      "Data columns (total 5 columns):\n",
      " #   Column           Non-Null Count   Dtype         \n",
      "---  ------           --------------   -----         \n",
      " 0   user_id          267158 non-null  object        \n",
      " 1   country_short    267158 non-null  object        \n",
      " 2   tweet_id         267158 non-null  object        \n",
      " 3   tweet_timestamp  267158 non-null  datetime64[ns]\n",
      " 4   is_seed          267158 non-null  int32         \n",
      "dtypes: datetime64[ns](1), int32(1), object(3)\n",
      "memory usage: 9.2+ MB\n"
     ]
    }
   ],
   "source": [
    "users.info()"
   ]
  },
  {
   "cell_type": "code",
   "execution_count": 8,
   "id": "destroyed-diary",
   "metadata": {},
   "outputs": [
    {
     "data": {
      "text/plain": [
       "<AxesSubplot:xlabel='tweet_timestamp'>"
      ]
     },
     "execution_count": 8,
     "metadata": {},
     "output_type": "execute_result"
    },
    {
     "data": {
      "image/png": "[encoded data removed]",
      "text/plain": [
       "<Figure size 432x288 with 1 Axes>"
      ]
     },
     "metadata": {
      "needs_background": "light"
     },
     "output_type": "display_data"
    }
   ],
   "source": [
    "users.set_index('tweet_timestamp').resample('M')['user_id'].count().truncate(before='7/1/2019').plot()"
   ]
  },
  {
   "cell_type": "code",
   "execution_count": 9,
   "id": "assured-genetics",
   "metadata": {},
   "outputs": [
    {
     "name": "stdout",
     "output_type": "stream",
     "text": [
      "# keys: 30\n",
      "key file: /scratch/spf248/twitter_data_collection/data/../keys/v1/WorldBankGroup6-dunstan.json\n"
     ]
    }
   ],
   "source": [
    "def get_key_file(key_files,SLURM_ARRAY_TASK_ID,SLURM_ARRAY_TASK_COUNT):\n",
    "    print('# keys:', len(key_files))\n",
    "    if SLURM_ARRAY_TASK_COUNT!=len(key_files) or SLURM_ARRAY_TASK_ID>=len(key_files) or SLURM_ARRAY_TASK_ID<0:\n",
    "        print(\"CHECK JOBARRAY\")\n",
    "    return key_files[SLURM_ARRAY_TASK_ID]\n",
    "        \n",
    "key_file = get_key_file(key_files,SLURM_ARRAY_TASK_ID,SLURM_ARRAY_TASK_COUNT)\n",
    "print('key file:', key_file)"
   ]
  },
  {
   "cell_type": "code",
   "execution_count": 10,
   "id": "tender-transfer",
   "metadata": {},
   "outputs": [],
   "source": [
    "def get_API_auth(key_file):\n",
    "    # Import Key\n",
    "    with open(key_file) as f:\n",
    "        key = json.load(f)\n",
    "    # OAuth process, using the keys and tokens\n",
    "    auth = tweepy.OAuthHandler(key['consumer_key'], key['consumer_secret'])\n",
    "    auth.set_access_token(key['access_token'], key['access_token_secret'])\n",
    "    # Creation of the actual interface, using authentication\n",
    "    api_auth = tweepy.API(auth,wait_on_rate_limit=True)\n",
    "    try:\n",
    "        api_auth.verify_credentials()\n",
    "    except:\n",
    "        sys.exit(key_file,\": error during authentication\")\n",
    "    return api_auth\n",
    "\n",
    "# for key_file in glob(os.path.join(path_to_data,'../keys','v1',app+'*.json')):\n",
    "#     get_API_auth(key_file)\n",
    "# print('Credentials Checked!')\n",
    "\n",
    "# Create API auth\n",
    "api = get_API_auth(key_file)"
   ]
  },
  {
   "cell_type": "code",
   "execution_count": 11,
   "id": "likely-series",
   "metadata": {},
   "outputs": [],
   "source": [
    "def n_requests_for_full_timeline(user_timeline,count=200):\n",
    "    if user_timeline.shape[0]:\n",
    "        return user_timeline.shape[0]//count+(user_timeline.shape[0]%count>0)\n",
    "    else:\n",
    "        return 1\n",
    "\n",
    "def pull_from_user_timeline_API_endpoint(api,user,id_type,since_id):\n",
    "    user_timeline=[]\n",
    "    error=None\n",
    "    try:\n",
    "        if since_id:\n",
    "            if id_type == 'user_id':\n",
    "                cursor=tweepy.Cursor(api.user_timeline,user_id=user,since_id=since_id,count=200,tweet_mode=\"extended\",include_rts=True).items()\n",
    "            elif id_type == 'screen_name':\n",
    "                cursor=tweepy.Cursor(api.user_timeline,screen_name=user,since_id=since_id,count=200,tweet_mode=\"extended\",include_rts=True).items()\n",
    "        else:\n",
    "            if id_type == 'user_id':\n",
    "                cursor=tweepy.Cursor(api.user_timeline,user_id=user,count=200,tweet_mode=\"extended\",include_rts=True).items()\n",
    "            elif id_type == 'screen_name':\n",
    "                cursor=tweepy.Cursor(api.user_timeline,screen_name=user,count=200,tweet_mode=\"extended\",include_rts=True).items()\n",
    "        for status in cursor:\n",
    "            user_timeline.append(status._json)\n",
    "    except tweepy.errors.TweepyException as e:\n",
    "        error = str(e)\n",
    "    return pd.DataFrame(user_timeline), error\n",
    "\n",
    "# timeline_test_1,error = pull_from_user_timeline_API_endpoint(api,'@deaneckles','screen_name','1388683708195086336')\n",
    "# timeline_test_2,error = pull_from_user_timeline_API_endpoint(api,'@deaneckles','screen_name',None)"
   ]
  },
  {
   "cell_type": "code",
   "execution_count": 12,
   "id": "disabled-framework",
   "metadata": {
    "scrolled": false
   },
   "outputs": [],
   "source": [
    "def pull_and_store(country_short):\n",
    "    n_users_queried = 0\n",
    "    n_users_pulled = 0\n",
    "    n_users_error = 0\n",
    "    users_tmp = users[(users['country_short']==country_short)]\n",
    "    users_tmp = users_tmp[users_tmp['tweet_id'].isnull()=={'full':True,'update':False}[pull_type]]\n",
    "    users_tmp = users_tmp[['user_id','tweet_id']].to_records(index=False)\n",
    "    print('# users:',len(users_tmp))\n",
    "    print()\n",
    "    output_id = str(uuid.uuid4())\n",
    "    tweets_window = pd.DataFrame()\n",
    "    n_tweets_window = 0\n",
    "    n_requests_window = 0\n",
    "    n_users_window = 0\n",
    "    start = timer()\n",
    "    for user_id,tweet_id in users_tmp:\n",
    "        n_users_queried += 1\n",
    "        tweets_user, error = pull_from_user_timeline_API_endpoint(api,user_id,id_type,tweet_id)\n",
    "        if not error:\n",
    "            tweets_window = pd.concat([tweets_window, tweets_user],sort=False)\n",
    "            n_tweets_window += tweets_user.shape[0]\n",
    "            n_requests_window += n_requests_for_full_timeline(tweets_user)\n",
    "            n_users_window += 1\n",
    "            n_users_pulled += 1\n",
    "        else:\n",
    "            n_users_error += 1\n",
    "#             print('Error pulling user',n_users_queried,':',error)\n",
    "        if n_users_queried and not n_users_queried % 100:\n",
    "            print('# queried users:',n_users_queried)\n",
    "            print('# pulled users:',n_users_pulled)\n",
    "            print('# pulled missed:',n_users_error)\n",
    "            print('# pulled users in window:',n_users_window)\n",
    "            print('# pulled requests in window:',n_requests_window)\n",
    "            print('# pulled tweets in window:',n_tweets_window)\n",
    "        if n_requests_window > max_requests or user_id == users_tmp[-1][0]:\n",
    "            dirname = os.path.join(path_to_output,'user_timeline','API',country_short,start_pull,pull_type)\n",
    "            os.makedirs(dirname, exist_ok=True)\n",
    "            filename = 'user_timeline_'+str(n_users_window)+'_users_'+str(n_requests_window)+'_requests_'+str(n_tweets_window)+'_tweets_'+country_short+'_'+start_pull+'_'+pull_type+'_min_timestamp='+str(min_timestamp.replace('/',''))+'_max_timestamp='+str(max_timestamp.replace('/',''))+'_'+str(SLURM_JOB_ID)+'_'+str(SLURM_ARRAY_TASK_ID)+'_'+output_id+'.json.bz2'\n",
    "            tweets_window.to_json(\n",
    "            os.path.join(dirname,filename),\n",
    "            orient='records',\n",
    "            force_ascii=False,\n",
    "            date_format=None,\n",
    "            double_precision=15)\n",
    "            end = timer()\n",
    "            print('Saved in', filename)\n",
    "            print('Computing Time:', round(end - start), 'sec')\n",
    "            print()\n",
    "            output_id = str(uuid.uuid4())\n",
    "            tweets_window = pd.DataFrame()\n",
    "            n_tweets_window = 0\n",
    "            n_requests_window = 0\n",
    "            n_users_window = 0\n",
    "            while timer() - start <= window_in_sec:\n",
    "                time.sleep(wait_in_sec)\n",
    "            start = timer()"
   ]
  },
  {
   "cell_type": "code",
   "execution_count": null,
   "id": "olympic-press",
   "metadata": {
    "scrolled": true
   },
   "outputs": [],
   "source": [
    "for country_short in countries_short:\n",
    "    print('Country:',country_short)\n",
    "    pull_and_store(country_short)"
   ]
  },
  {
   "cell_type": "code",
   "execution_count": null,
   "id": "sunrise-bahrain",
   "metadata": {},
   "outputs": [],
   "source": [
    "# country_short = 'US'\n",
    "# pull_type = 'update'\n",
    "# pulled_users = sum([int(x.split('_users')[0].split('timeline_')[1]) for x in glob(os.path.join(path_to_output,'user_timeline','API',country_short,start_pull,pull_type,'*'))])\n",
    "# success_rate = 89307/96800\n",
    "# total_users = users.shape[0]*100\n",
    "# time_in_hours = 14\n",
    "# int(total_users/pulled_users*success_rate*time_in_hours/24)"
   ]
  },
  {
   "cell_type": "code",
   "execution_count": null,
   "id": "wound-integer",
   "metadata": {},
   "outputs": [],
   "source": [
    "def n_queried_users_per_week(n_queried_users_in_window):\n",
    "    n_windows_per_week = 4*24*7\n",
    "    return n_queried_users_in_window*n_windows_per_week\n",
    "\n",
    "n_queried_users_in_window = 700\n",
    "n_pulled_users_in_window = 599\n",
    "n_requests_in_window_in_window = 836\n",
    "n_queried_users_per_week(n_queried_users_in_window)"
   ]
  }
 ],
 "metadata": {
  "kernelspec": {
   "display_name": "Python 3 (ipykernel)",
   "language": "python",
   "name": "python3"
  },
  "language_info": {
   "codemirror_mode": {
    "name": "ipython",
    "version": 3
   },
   "file_extension": ".py",
   "mimetype": "text/x-python",
   "name": "python",
   "nbconvert_exporter": "python",
   "pygments_lexer": "ipython3",
   "version": "3.8.12"
  }
 },
 "nbformat": 4,
 "nbformat_minor": 5
}

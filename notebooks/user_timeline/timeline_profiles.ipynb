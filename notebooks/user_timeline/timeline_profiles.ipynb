{
 "cells": [
  {
   "cell_type": "code",
   "execution_count": null,
   "id": "tamil-citizen",
   "metadata": {},
   "outputs": [],
   "source": [
    "import os\n",
    "from datetime import datetime\n",
    "from pyspark.sql import SparkSession\n",
    "import pyspark.sql.functions as F"
   ]
  },
  {
   "cell_type": "code",
   "execution_count": null,
   "id": "usual-thanks",
   "metadata": {},
   "outputs": [],
   "source": [
    "print('Date:',datetime.today().strftime('%d%m%Y'))\n",
    "spark = SparkSession.builder\\\n",
    ".config(\"spark.sql.files.ignoreCorruptFiles\",\"true\") \\\n",
    ".config(\"spark.hadoop.dfs.replication\",\"1\") \\\n",
    ".config(\"spark.serializer\",\"org.apache.spark.serializer.KryoSerializer\") \\\n",
    ".config(\"spark.yarn.appMasterEnv.LANG\",\"en_US.UTF-8\") \\\n",
    ".config(\"spark.executorEnv.LANG\",\"en_US.UTF-8\") \\\n",
    ".config(\"spark.driver.extraJavaOptions\",\"-Duser.timezone=UTC\") \\\n",
    ".config(\"spark.executor.extraJavaOptions\",\"-Duser.timezone=UTC\") \\\n",
    ".config(\"spark.sql.session.timeZone\",\"UTC\") \\\n",
    ".config(\"spark.sql.broadcastTimeout\",-1) \\\n",
    ".config(\"spark.driver.maxResultSize\",0) \\\n",
    ".config(\"spark.sql.shuffle.partitions\",\"2000\") \\\n",
    ".config(\"spark.default.parallelism\",\"2000\") \\\n",
    ".getOrCreate()\n",
    "print(spark.sparkContext.getConf().getAll())\n",
    "path_to_data = \"/user/spf248/twitter_data_collection/data\"\n",
    "print(path_to_data)"
   ]
  },
  {
   "cell_type": "code",
   "execution_count": null,
   "id": "color-palace",
   "metadata": {},
   "outputs": [],
   "source": [
    "def profiles(df1,df2):\n",
    "    tmp1 = df1.groupby('user_id').agg(F.max('tweet_timestamp').alias('tweet_timestamp'),F.count('tweet_id').alias('tweet_count'))\n",
    "    print('# Profiles:', tmp1.cache().count())\n",
    "    tmp2 = df1.join(tmp1,on=['user_id','tweet_timestamp'])\n",
    "    tmp2 = tmp2.drop_duplicates(subset=['user_id'])\n",
    "    tmp3 = tmp2.join(F.broadcast(df2),on='user_location',how=\"left\")\n",
    "    tmp3 = tmp3.select([\n",
    "    'tweet_id', \n",
    "    'tweet_timestamp',\n",
    "    'tweet_count',\n",
    "    'user_timestamp', \n",
    "    'user_default_profile_image', \n",
    "    'user_description', \n",
    "    'user_favourites_count', \n",
    "    'user_followers_count', \n",
    "    'user_friends_count', \n",
    "    'user_geo_enabled', \n",
    "    'user_id', \n",
    "    'user_location', \n",
    "    'user_name', \n",
    "    'user_notifications', \n",
    "    'user_profile_image_url_https', \n",
    "    'user_protected', \n",
    "    'user_screen_name', \n",
    "    'user_statuses_count',\n",
    "    'user_url', \n",
    "    'user_verified',\n",
    "    'country_short'])\n",
    "    tmp3.write.mode(\"overwrite\").parquet(os.path.join(path_to_data,\"user_timeline\",\"profiles\"))"
   ]
  },
  {
   "cell_type": "code",
   "execution_count": null,
   "id": "engaged-clause",
   "metadata": {},
   "outputs": [],
   "source": [
    "test = \"part-0000*.snappy.parquet\"\n",
    "df1 = spark.read.parquet(os.path.join(path_to_data,\"user_timeline\",\"extract\"))\n",
    "df2 = spark.read.parquet(os.path.join(path_to_data,\"preprocessed\",\"locations\",\"locations_geocoded.parquet\")).select(\"user_location\",\"country_short\")\n",
    "profiles(df1,df2)"
   ]
  }
 ],
 "metadata": {
  "kernelspec": {
   "display_name": "Python 3",
   "language": "python",
   "name": "python3"
  },
  "language_info": {
   "codemirror_mode": {
    "name": "ipython",
    "version": 3
   },
   "file_extension": ".py",
   "mimetype": "text/x-python",
   "name": "python",
   "nbconvert_exporter": "python",
   "pygments_lexer": "ipython3",
   "version": "3.8.5"
  }
 },
 "nbformat": 4,
 "nbformat_minor": 5
}

{
 "cells": [
  {
   "cell_type": "code",
   "execution_count": null,
   "id": "tamil-citizen",
   "metadata": {},
   "outputs": [],
   "source": [
    "import os\n",
    "from datetime import datetime\n",
    "from pyspark.sql import SparkSession\n",
    "import pyspark.sql.functions as F"
   ]
  },
  {
   "cell_type": "code",
   "execution_count": null,
   "id": "usual-thanks",
   "metadata": {},
   "outputs": [],
   "source": [
    "print('Date:',datetime.today().strftime('%d%m%Y'))\n",
    "spark = SparkSession.builder\\\n",
    ".config(\"spark.sql.files.ignoreCorruptFiles\",\"true\") \\\n",
    ".config(\"spark.hadoop.dfs.replication\",\"1\") \\\n",
    ".config(\"spark.serializer\",\"org.apache.spark.serializer.KryoSerializer\") \\\n",
    ".config(\"spark.yarn.appMasterEnv.LANG\",\"en_US.UTF-8\") \\\n",
    ".config(\"spark.executorEnv.LANG\",\"en_US.UTF-8\") \\\n",
    ".config(\"spark.driver.extraJavaOptions\",\"-Duser.timezone=UTC\") \\\n",
    ".config(\"spark.executor.extraJavaOptions\",\"-Duser.timezone=UTC\") \\\n",
    ".config(\"spark.sql.session.timeZone\",\"UTC\") \\\n",
    ".config(\"spark.sql.broadcastTimeout\",-1) \\\n",
    ".config(\"spark.driver.maxResultSize\",0) \\\n",
    ".getOrCreate()\n",
    "print(spark.sparkContext.getConf().getAll())\n",
    "path_to_data = \"/user/spf248/twitter_data_collection/data\"\n",
    "print(path_to_data)"
   ]
  },
  {
   "cell_type": "code",
   "execution_count": null,
   "id": "centered-interpretation",
   "metadata": {},
   "outputs": [],
   "source": [
    "def snowball(df1,df2):\n",
    "    tmp1 = df1.withColumn(\"neighbor_id\",F.explode(\"tweet_mentioned_user_id\")).select(\"user_id\",\"user_location\",\"neighbor_id\")\n",
    "    tmp2 = df1.selectExpr(\"user_id\",\"user_location\",\"tweet_retweeted_user_id as neighbor_id\")\n",
    "    tmp3 = df1.selectExpr(\"user_id\",\"user_location\",\"tweet_in_reply_to_user_id as neighbor_id\")\n",
    "    tmp4 = tmp1.unionByName(tmp2).unionByName(tmp3)\n",
    "    tmp4 = tmp4.where(tmp4[\"neighbor_id\"].isNotNull())\n",
    "    tmp5 = tmp4.join(F.broadcast(df2),on=\"user_location\",how=\"left\")\n",
    "    tmp5 = tmp5.groupby([\"neighbor_id\",\"country_short\"]).agg(F.count(\"user_id\").alias(\"n_users\"))\n",
    "    tmp5 = tmp5.withColumnRenamed(\"neighbor_id\",\"user_id\")\n",
    "    tmp5.write.mode(\"overwrite\").parquet(os.path.join(path_to_data,\"user_timeline\",\"snowball\"))"
   ]
  },
  {
   "cell_type": "code",
   "execution_count": null,
   "id": "engaged-clause",
   "metadata": {},
   "outputs": [],
   "source": [
    "test = \"part-0000*.snappy.parquet\"\n",
    "df1 = spark.read.parquet(os.path.join(path_to_data,\"user_timeline\",\"extract\"))\n",
    "df2 = spark.read.parquet(os.path.join(path_to_data,\"preprocessed\",\"locations\",\"locations_geocoded.parquet\")).select(\"user_location\",\"country_short\")\n",
    "snowball(df1,df2)"
   ]
  }
 ],
 "metadata": {
  "kernelspec": {
   "display_name": "Python 3",
   "language": "python",
   "name": "python3"
  },
  "language_info": {
   "codemirror_mode": {
    "name": "ipython",
    "version": 3
   },
   "file_extension": ".py",
   "mimetype": "text/x-python",
   "name": "python",
   "nbconvert_exporter": "python",
   "pygments_lexer": "ipython3",
   "version": "3.8.5"
  }
 },
 "nbformat": 4,
 "nbformat_minor": 5
}

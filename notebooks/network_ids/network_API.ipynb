{
 "cells": [
  {
   "cell_type": "code",
   "execution_count": 1,
   "metadata": {},
   "outputs": [],
   "source": [
    "from timeit import default_timer as timer\n",
    "from datetime import date\n",
    "import os\n",
    "import sys\n",
    "import uuid\n",
    "from glob import glob\n",
    "import json\n",
    "import tweepy\n",
    "import numpy as np\n",
    "import pandas as pd"
   ]
  },
  {
   "cell_type": "code",
   "execution_count": 2,
   "metadata": {},
   "outputs": [
    {
     "name": "stdout",
     "output_type": "stream",
     "text": [
      "Country: NG\n"
     ]
    }
   ],
   "source": [
    "country_code = 'NG'\n",
    "print('Country:', country_code)"
   ]
  },
  {
   "cell_type": "code",
   "execution_count": 3,
   "metadata": {},
   "outputs": [
    {
     "name": "stdout",
     "output_type": "stream",
     "text": [
      "Store after 1000 queries\n"
     ]
    }
   ],
   "source": [
    "cutoff = 1000\n",
    "print('Store after',cutoff,'queries')"
   ]
  },
  {
   "cell_type": "code",
   "execution_count": 4,
   "metadata": {},
   "outputs": [
    {
     "name": "stdout",
     "output_type": "stream",
     "text": [
      "/scratch/spf248/twitter_data_collection/data\n"
     ]
    }
   ],
   "source": [
    "path_to_data = \"/scratch/spf248/twitter_data_collection/data\"\n",
    "print(path_to_data)"
   ]
  },
  {
   "cell_type": "code",
   "execution_count": 5,
   "metadata": {},
   "outputs": [
    {
     "name": "stdout",
     "output_type": "stream",
     "text": [
      "endpoint: friends_ids\n"
     ]
    }
   ],
   "source": [
    "endpoint_name = 'friends_ids'\n",
    "print('endpoint:', endpoint_name)"
   ]
  },
  {
   "cell_type": "code",
   "execution_count": 6,
   "metadata": {},
   "outputs": [
    {
     "name": "stdout",
     "output_type": "stream",
     "text": [
      "id_type: user_id\n"
     ]
    }
   ],
   "source": [
    "id_type = 'user_id'\n",
    "print('id_type:',id_type)"
   ]
  },
  {
   "cell_type": "code",
   "execution_count": 7,
   "metadata": {},
   "outputs": [
    {
     "name": "stdout",
     "output_type": "stream",
     "text": [
      "SLURM_JOB_ID : 16952609\n",
      "SLURM_ARRAY_TASK_ID : 0 (Default)\n",
      "SLURM_ARRAY_TASK_COUNT : 1 (Default)\n"
     ]
    }
   ],
   "source": [
    "def get_env_var(varname,default):\n",
    "    if os.environ.get(varname) != None:\n",
    "        var = int(os.environ.get(varname))\n",
    "        print(varname,':', var)\n",
    "    else:\n",
    "        var = default\n",
    "        print(varname,':', var,'(Default)')\n",
    "    return var\n",
    "\n",
    "# Choose Number of Nodes To Distribute Credentials: e.g. jobarray=0-4, cpu_per_task=20, credentials = 90 (<100)\n",
    "SLURM_JOB_ID            = get_env_var('SLURM_JOB_ID',0)\n",
    "SLURM_ARRAY_TASK_ID     = get_env_var('SLURM_ARRAY_TASK_ID',0)\n",
    "SLURM_ARRAY_TASK_COUNT  = get_env_var('SLURM_ARRAY_TASK_COUNT',1)"
   ]
  },
  {
   "cell_type": "code",
   "execution_count": 8,
   "metadata": {},
   "outputs": [
    {
     "name": "stdout",
     "output_type": "stream",
     "text": [
      "# users batch: 34583\n"
     ]
    }
   ],
   "source": [
    "batch = pd.read_csv(os.path.join(path_to_data,'friends_ids',country_code,'batch.csv'),squeeze=True).tolist()\n",
    "print('# users batch:', len(batch))"
   ]
  },
  {
   "cell_type": "code",
   "execution_count": 9,
   "metadata": {},
   "outputs": [
    {
     "name": "stdout",
     "output_type": "stream",
     "text": [
      "# keys: 75\n",
      "CHECK JOBARRAY\n",
      "key file: /scratch/spf248/twitter_data_collection/data/../keys/v1/WorldBankGroup6-aleister.json\n"
     ]
    }
   ],
   "source": [
    "def get_key_file(path_to_data,SLURM_ARRAY_TASK_ID,SLURM_ARRAY_TASK_COUNT):\n",
    "    key_files = sorted(glob(os.path.join(path_to_data,'../keys','v1','*.json')))\n",
    "    print('# keys:', len(key_files))\n",
    "    if SLURM_ARRAY_TASK_COUNT!=len(key_files) or SLURM_ARRAY_TASK_ID>=len(key_files) or SLURM_ARRAY_TASK_ID<0:\n",
    "        print(\"CHECK JOBARRAY\")\n",
    "    return key_files[SLURM_ARRAY_TASK_ID]\n",
    "        \n",
    "key_file = get_key_file(path_to_data,SLURM_ARRAY_TASK_ID,SLURM_ARRAY_TASK_COUNT)\n",
    "print('key file:', key_file)"
   ]
  },
  {
   "cell_type": "code",
   "execution_count": 10,
   "metadata": {},
   "outputs": [],
   "source": [
    "def get_API_auth(key_file):\n",
    "    # Import Key\n",
    "    with open(key_file) as f:\n",
    "        key = json.load(f)\n",
    "    # OAuth process, using the keys and tokens\n",
    "    auth = tweepy.OAuthHandler(key['consumer_key'], key['consumer_secret'])\n",
    "    auth.set_access_token(key['access_token'], key['access_token_secret'])\n",
    "    # Creation of the actual interface, using authentication\n",
    "    api_auth = tweepy.API(auth, wait_on_rate_limit=True, wait_on_rate_limit_notify=True)\n",
    "    try:\n",
    "        api_auth.verify_credentials()\n",
    "    except:\n",
    "        sys.exit(key_file,\": error during authentication\")\n",
    "    return api_auth\n",
    "\n",
    "# for key_file in glob(os.path.join(path_to_data,'../keys','v1','*.json')):\n",
    "#     get_API_auth(key_file)\n",
    "# print('Credentials Checked!')\n",
    "\n",
    "# Create API auth\n",
    "api = get_API_auth(key_file)"
   ]
  },
  {
   "cell_type": "markdown",
   "metadata": {},
   "source": [
    "# API pull"
   ]
  },
  {
   "cell_type": "code",
   "execution_count": 12,
   "metadata": {},
   "outputs": [
    {
     "name": "stdout",
     "output_type": "stream",
     "text": [
      "Allocate users:\n",
      "# Users: 34583\n",
      "First User: 1164604391434936320\n",
      "Node\"s # Users: 34583\n",
      "Node\"s First User: 1164604391434936320\n",
      "Computing Time: 0 sec\n"
     ]
    }
   ],
   "source": [
    "def allocate_users(batch,SLURM_ARRAY_TASK_ID,SLURM_ARRAY_TASK_COUNT):\n",
    "    np.random.seed(0)\n",
    "    users = np.random.permutation(batch)\n",
    "    print('# Users:', len(users))\n",
    "    print('First User:', users[0])\n",
    "    users = np.array_split(users,SLURM_ARRAY_TASK_COUNT)[SLURM_ARRAY_TASK_ID].copy()\n",
    "    print('Node\"s # Users:', len(users))\n",
    "    print('Node\"s First User:', users[0])    \n",
    "    return users\n",
    "\n",
    "print('Allocate users:')\n",
    "start = timer()\n",
    "users = allocate_users(batch,SLURM_ARRAY_TASK_ID,SLURM_ARRAY_TASK_COUNT)\n",
    "end = timer()\n",
    "print('Computing Time:', round(end - start), 'sec')"
   ]
  },
  {
   "cell_type": "code",
   "execution_count": 16,
   "metadata": {},
   "outputs": [],
   "source": [
    "def pull_from_API_endpoint(api,endpoint_name,user,id_type):\n",
    "    dump = []\n",
    "    error = None\n",
    "    try:\n",
    "        if endpoint_name == 'friends_ids':\n",
    "            if id_type == 'user_id':\n",
    "                cursor = tweepy.Cursor(api.friends_ids, user_id=user, stringify_ids=True).pages()\n",
    "            elif id_type == 'screen_name':\n",
    "                cursor = tweepy.Cursor(api.friends_ids, screen_name=user, stringify_ids=True).pages()\n",
    "        elif endpoint_name == 'followers_ids':\n",
    "            if id_type == 'user_id':\n",
    "                cursor = tweepy.Cursor(api.followers_ids, user_id=user, stringify_ids=True).pages()\n",
    "            elif id_type == 'screen_name':\n",
    "                cursor = tweepy.Cursor(api.followers_ids, screen_name=user, stringify_ids=True).pages()\n",
    "        for page in cursor:\n",
    "            dump.extend(page)\n",
    "    except tweepy.error.TweepError as e:\n",
    "        error = str(e)\n",
    "    return dump, error\n",
    "dump, error = pull_from_API_endpoint(api,\"followers_ids\",\"@deaneckles\",\"screen_name\")"
   ]
  },
  {
   "cell_type": "code",
   "execution_count": 21,
   "metadata": {},
   "outputs": [
    {
     "name": "stdout",
     "output_type": "stream",
     "text": [
      "Data stored in friends_ids_NG_3_users_2022_04_06_16952609_0_0b504c82-6c78-4a16-bbe1-59ea943bc0e1.json\n",
      "Computing Time: 1 sec\n"
     ]
    }
   ],
   "source": [
    "output_id = str(uuid.uuid4())\n",
    "dumps = {}\n",
    "n_requests = 0\n",
    "start = timer()\n",
    "for counter,user in enumerate(users):\n",
    "    if counter and not counter % (cutoff // 10):\n",
    "        print('# users queried:', counter)\n",
    "        print('# users pulled:', n_requests)\n",
    "    dump, error = pull_from_API_endpoint(api,endpoint_name,user,id_type)\n",
    "    if not error:\n",
    "        dumps[str(user)] = dump\n",
    "        n_requests += 1\n",
    "    if n_requests == cutoff or user == users[-1]:\n",
    "        folder_name = os.path.join(path_to_data,endpoint_name,country_code,'API',date.today().strftime(\"%m%Y\"))\n",
    "        os.makedirs(folder_name, exist_ok=True)\n",
    "        filename = endpoint_name+'_'+country_code+'_'+str(n_requests)+'_users_'+str(date.today()).replace('-','_')+'_'+str(SLURM_JOB_ID)+'_'+str(SLURM_ARRAY_TASK_ID)+'_'+output_id+'.json'\n",
    "        with open(os.path.join(folder_name,filename), 'w') as fp:\n",
    "            json.dump(dumps, fp)\n",
    "        print('Data stored in',filename)\n",
    "        end = timer()\n",
    "        print('Computing Time:', round(end - start), 'sec')\n",
    "        output_id = str(uuid.uuid4())\n",
    "        dumps = {}\n",
    "        n_requests = 0\n",
    "        start = timer()"
   ]
  }
 ],
 "metadata": {
  "kernelspec": {
   "display_name": "Python 3 (ipykernel)",
   "language": "python",
   "name": "python3"
  },
  "language_info": {
   "codemirror_mode": {
    "name": "ipython",
    "version": 3
   },
   "file_extension": ".py",
   "mimetype": "text/x-python",
   "name": "python",
   "nbconvert_exporter": "python",
   "pygments_lexer": "ipython3",
   "version": "3.10.6"
  }
 },
 "nbformat": 4,
 "nbformat_minor": 2
}

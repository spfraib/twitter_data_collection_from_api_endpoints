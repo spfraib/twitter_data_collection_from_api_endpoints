{
 "cells": [
  {
   "cell_type": "code",
   "execution_count": 1,
   "id": "apart-blink",
   "metadata": {},
   "outputs": [],
   "source": [
    "from timeit import default_timer as timer\n",
    "from datetime import date\n",
    "import os\n",
    "import sys\n",
    "from glob import glob\n",
    "import json\n",
    "import numpy as np\n",
    "import pandas as pd"
   ]
  },
  {
   "cell_type": "code",
   "execution_count": 2,
   "id": "hispanic-future",
   "metadata": {},
   "outputs": [
    {
     "name": "stdout",
     "output_type": "stream",
     "text": [
      "Country: NG\n"
     ]
    }
   ],
   "source": [
    "country_short = 'NG'\n",
    "print('Country:',country_short)"
   ]
  },
  {
   "cell_type": "code",
   "execution_count": 3,
   "id": "cognitive-congress",
   "metadata": {},
   "outputs": [
    {
     "name": "stdout",
     "output_type": "stream",
     "text": [
      "path_to_data: /scratch/spf248/twitter_data_collection/data\n"
     ]
    }
   ],
   "source": [
    "if os.getenv('CLUSTER') == 'GREENE':\n",
    "    path_to_data = '/scratch/spf248/twitter_data_collection/data'\n",
    "else:\n",
    "    sys.exit('check data location')\n",
    "print('path_to_data:',path_to_data)"
   ]
  },
  {
   "cell_type": "code",
   "execution_count": 4,
   "id": "ahead-extraction",
   "metadata": {},
   "outputs": [
    {
     "name": "stdout",
     "output_type": "stream",
     "text": [
      "Load all users:\n",
      "# all users: 1765166\n",
      "Computing Time: 464 sec\n"
     ]
    }
   ],
   "source": [
    "print('Load all users:')\n",
    "start = timer()\n",
    "\n",
    "locations = pd.read_parquet(os.path.join(path_to_data,\"preprocessed\",\"locations\",\"locations_geocoded.parquet\"),columns=[\"user_location\",\"country_short\"])\n",
    "files = glob(os.path.join(path_to_data,'user_timeline','profiles','*.parquet'))\n",
    "all_users = []\n",
    "for file in files:\n",
    "    tmp = pd.read_parquet(file)\n",
    "    tmp = tmp.merge(locations,on=\"user_location\")\n",
    "    tmp = tmp[tmp['country_short']==country_short]\n",
    "    all_users.extend(tmp['user_id'])\n",
    "print('# all users:', len(all_users))\n",
    "\n",
    "end = timer()\n",
    "print('Computing Time:', round(end - start), 'sec')"
   ]
  },
  {
   "cell_type": "code",
   "execution_count": 5,
   "id": "yellow-defense",
   "metadata": {},
   "outputs": [
    {
     "name": "stdout",
     "output_type": "stream",
     "text": [
      "Load existing users:\n",
      "# existing users: 1798643\n",
      "Computing Time: 299 sec\n"
     ]
    }
   ],
   "source": [
    "print('Load existing users:')\n",
    "start = timer()\n",
    "\n",
    "existing_users = []\n",
    "files = glob(os.path.join(path_to_data,'friends_ids',country_short,'API','*','*.json'))\n",
    "for file in files:\n",
    "    with open(os.path.join(file), 'r') as fp:\n",
    "        df = json.load(fp)\n",
    "        existing_users.extend(list(df))\n",
    "print('# existing users:', len(existing_users))\n",
    "\n",
    "end = timer()\n",
    "print('Computing Time:', round(end - start), 'sec')"
   ]
  },
  {
   "cell_type": "code",
   "execution_count": 6,
   "id": "enormous-blanket",
   "metadata": {},
   "outputs": [
    {
     "name": "stdout",
     "output_type": "stream",
     "text": [
      "# missing users: 34583\n"
     ]
    }
   ],
   "source": [
    "missing_users = set(all_users).difference(set(existing_users))\n",
    "print('# missing users:', len(missing_users))"
   ]
  },
  {
   "cell_type": "code",
   "execution_count": 8,
   "id": "modular-effects",
   "metadata": {},
   "outputs": [
    {
     "name": "stdout",
     "output_type": "stream",
     "text": [
      "Save:\n",
      "Computing Time: 0 sec\n"
     ]
    }
   ],
   "source": [
    "print('Save:')\n",
    "start = timer()\n",
    "pd.Series(list(missing_users)).to_csv(os.path.join(path_to_data,'friends_ids',country_short,'batch.csv'),index=False)\n",
    "end = timer()\n",
    "print('Computing Time:', round(end - start), 'sec')"
   ]
  }
 ],
 "metadata": {
  "kernelspec": {
   "display_name": "Python 3",
   "language": "python",
   "name": "python3"
  },
  "language_info": {
   "codemirror_mode": {
    "name": "ipython",
    "version": 3
   },
   "file_extension": ".py",
   "mimetype": "text/x-python",
   "name": "python",
   "nbconvert_exporter": "python",
   "pygments_lexer": "ipython3",
   "version": "3.8.5"
  }
 },
 "nbformat": 4,
 "nbformat_minor": 5
}
